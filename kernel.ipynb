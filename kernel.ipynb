{
  "cells": [
    {
      "metadata": {
        "_cell_guid": "b1076dfc-b9ad-4769-8c92-a6c4dae69d19",
        "_uuid": "8f2839f25d086af736a60e9eeb907d3b93b6e0e5",
        "trusted": true
      },
      "cell_type": "code",
      "source": "# This Python 3 environment comes with many helpful analytics libraries installed\n# It is defined by the kaggle/python docker image: https://github.com/kaggle/docker-python\n# For example, here's several helpful packages to load in \n\nimport numpy as np # linear algebra\nimport pandas as pd # data processing, CSV file I/O (e.g. pd.read_csv)\n\n# Input data files are available in the \"../input/\" directory.\n# For example, running this (by clicking run or pressing Shift+Enter) will list the files in the input directory\n\nimport os\nprint(os.listdir(\"../input\"))\n\n# Any results you write to the current directory are saved as output.",
      "execution_count": null,
      "outputs": []
    },
    {
      "metadata": {
        "_cell_guid": "79c7e3d0-c299-4dcb-8224-4455121ee9b0",
        "_uuid": "d629ff2d2480ee46fbb7e2d37f6b5fab8052498a",
        "trusted": true
      },
      "cell_type": "code",
      "source": "import tensorflow as tf",
      "execution_count": null,
      "outputs": []
    },
    {
      "metadata": {
        "_uuid": "11fb17662b8c426cb1c1f5194c535f6a4bed4031",
        "trusted": true
      },
      "cell_type": "code",
      "source": "import os\nimport numpy as np\nimport pandas as pd\nfrom scipy.misc import imread\nfrom sklearn.metrics import accuracy_score\nimport tensorflow as tf",
      "execution_count": null,
      "outputs": []
    },
    {
      "metadata": {
        "_uuid": "802d79eba9d540fee4deeeb6db29374c59a5a805",
        "trusted": true
      },
      "cell_type": "code",
      "source": "train = pd.read_csv('../input/train.csv', header=None)\n",
      "execution_count": null,
      "outputs": []
    },
    {
      "metadata": {
        "_uuid": "3ffffc3fd240cfd862109145543862f7e8dd5c06",
        "trusted": true
      },
      "cell_type": "code",
      "source": "train.head()\n",
      "execution_count": null,
      "outputs": []
    },
    {
      "metadata": {
        "_uuid": "0fa8b433839c478d542cf154c81e6534fe1c4d3d",
        "trusted": true
      },
      "cell_type": "code",
      "source": "test = pd.read_csv('../input/test.csv', header=None)\n",
      "execution_count": null,
      "outputs": []
    },
    {
      "metadata": {
        "_uuid": "2ee0f85dc88f10f0812a3435a89bb8006531fdfa",
        "trusted": true
      },
      "cell_type": "code",
      "source": "test.drop(test.columns[0:5],axis=1, inplace=True)\ntest.head()",
      "execution_count": null,
      "outputs": []
    },
    {
      "metadata": {
        "_uuid": "70a0ee72e4a78b9a9a9a70c30d14c4e61394ec2a",
        "trusted": true
      },
      "cell_type": "code",
      "source": "test.columns=test.iloc[0]",
      "execution_count": null,
      "outputs": []
    },
    {
      "metadata": {
        "_uuid": "b439a5d724a9bbb9fc3dd908edeccfc61a5efacc",
        "trusted": true
      },
      "cell_type": "code",
      "source": "test1=test.drop(0)\ntest1.head()\n",
      "execution_count": null,
      "outputs": []
    },
    {
      "metadata": {
        "_uuid": "a57d3cdd70839cb168293d1148a2017f19a166b1",
        "trusted": true
      },
      "cell_type": "code",
      "source": "test1=test1.astype(float)\ntest1.info()",
      "execution_count": null,
      "outputs": []
    },
    {
      "metadata": {
        "_uuid": "dcee97484e76755e2b5f1a9bd9993202393c584a",
        "trusted": true
      },
      "cell_type": "code",
      "source": "sample = pd.read_csv('../input/sample_submission.csv')\nsample.head()",
      "execution_count": null,
      "outputs": []
    },
    {
      "metadata": {
        "_uuid": "f5d062d6cbcdf8370d25795be6f3925cf8537710",
        "trusted": true
      },
      "cell_type": "code",
      "source": "train.columns=train.iloc[0]\ntrain.head()",
      "execution_count": null,
      "outputs": []
    },
    {
      "metadata": {
        "_uuid": "4c6a440a52f7f5c209b8077b193915efaf35d03e",
        "trusted": true
      },
      "cell_type": "code",
      "source": "train1=train.drop(0)\ntrain1.head()",
      "execution_count": null,
      "outputs": []
    },
    {
      "metadata": {
        "_uuid": "6d4b7bce85e072a509257d1d8c7b9cb92115c1e8",
        "trusted": true
      },
      "cell_type": "code",
      "source": "train1.info()",
      "execution_count": null,
      "outputs": []
    },
    {
      "metadata": {
        "_uuid": "74f4c3cc2cb09a9936b733b75000bfafc5c2f008",
        "trusted": true
      },
      "cell_type": "code",
      "source": "train1.drop(train1.columns[0:3], axis=1, inplace=True)",
      "execution_count": null,
      "outputs": []
    },
    {
      "metadata": {
        "_uuid": "081f2beb59f138f25a5e6b7e25d58de490fc0229",
        "trusted": true
      },
      "cell_type": "code",
      "source": "\n\ntrain1.head()",
      "execution_count": null,
      "outputs": []
    },
    {
      "metadata": {
        "_uuid": "e63dea435bd0f1ccc5ed130b6ce6aaaf04f0caa8",
        "trusted": true
      },
      "cell_type": "code",
      "source": "\ntrain1.info()",
      "execution_count": null,
      "outputs": []
    },
    {
      "metadata": {
        "_uuid": "622bf246cb035ac5679b0bc4dd5f5ac7dea09c8e",
        "trusted": true
      },
      "cell_type": "code",
      "source": "train1.describe()",
      "execution_count": null,
      "outputs": []
    },
    {
      "metadata": {
        "_uuid": "53ffcd0fd6e460ab56249afadbcebfca2f7dd7d9",
        "trusted": true
      },
      "cell_type": "code",
      "source": "\n\n\ntrain2=train1.astype(float)",
      "execution_count": null,
      "outputs": []
    },
    {
      "metadata": {
        "_uuid": "988f93a63807164cd8197349f1cef7303a0bdc2a",
        "trusted": true
      },
      "cell_type": "code",
      "source": "train2.info()",
      "execution_count": null,
      "outputs": []
    },
    {
      "metadata": {
        "_uuid": "aab417e520440cbbd28ebbc83f8127b601ffd80c",
        "trusted": true
      },
      "cell_type": "code",
      "source": "train2.describe()",
      "execution_count": null,
      "outputs": []
    },
    {
      "metadata": {
        "trusted": true,
        "_uuid": "06b876163f3f78d1bc148b4048c899ef5607790c"
      },
      "cell_type": "code",
      "source": "import seaborn as sns                 \nimport matplotlib.pyplot as plt\nmatrix = train2.corr()\nf, ax = plt.subplots(figsize=(9, 6))\nsns.heatmap(matrix, vmax=.8, square=True, cmap=\"BuPu\");",
      "execution_count": null,
      "outputs": []
    },
    {
      "metadata": {
        "_uuid": "9de7b9d9fc93c1dc01656121d1a5f817eba25211",
        "trusted": true
      },
      "cell_type": "code",
      "source": "X=train2.drop(columns=[\"bestSoldierPerc\"])\nX.abs()\nX.info()",
      "execution_count": null,
      "outputs": []
    },
    {
      "metadata": {
        "_uuid": "3dd7c2149d8be1887d21af3b9959d89027f8071b",
        "trusted": true
      },
      "cell_type": "code",
      "source": "y=train2[\"bestSoldierPerc\"]\nprint(y[y==1.0].value_counts())\nprint(y[y==0.0].value_counts())\ny.astype(float)",
      "execution_count": null,
      "outputs": []
    },
    {
      "metadata": {
        "_uuid": "0c9108e79cb220eb6625e76d60f1426f8716d57a",
        "trusted": true
      },
      "cell_type": "code",
      "source": "#y[y<1]=0\n#print(y[y==1].value_counts())\n#print(y[y==0].value_counts())\ny.head()\ny=y*100\n",
      "execution_count": null,
      "outputs": []
    },
    {
      "metadata": {
        "_uuid": "286553cc740486cad112dcc0b9e07563ada7f2c1",
        "trusted": true
      },
      "cell_type": "code",
      "source": "from sklearn.preprocessing import StandardScaler\nsc=StandardScaler()\nX=sc.fit_transform(X)",
      "execution_count": null,
      "outputs": []
    },
    {
      "metadata": {
        "trusted": true,
        "_uuid": "19b4b4110eac7642b1ca1ade31f2cb6b3392d1be"
      },
      "cell_type": "code",
      "source": "\ntest2=sc.fit_transform(test1)\n",
      "execution_count": null,
      "outputs": []
    },
    {
      "metadata": {
        "_uuid": "89208dd61e42c7b2ee6746c2f04a87e908c9a602",
        "trusted": true
      },
      "cell_type": "code",
      "source": "from keras.models import Sequential\nfrom keras.layers import Dense,BatchNormalization,Dropout,Activation\n",
      "execution_count": null,
      "outputs": []
    },
    {
      "metadata": {
        "_uuid": "34c9923f65a42d3a376cab15cf70eb0fa30fa39a",
        "trusted": true
      },
      "cell_type": "code",
      "source": "n_cols = X.shape[1]\nmodel = Sequential()\n#add model layers\nmodel.add(Dense(1024, activation='relu', input_shape=(n_cols,)))\nmodel.add(BatchNormalization())\nmodel.add(Dropout(0.25))\n\nmodel.add(Dense(256, activation='relu'))\nmodel.add(BatchNormalization())\nmodel.add(Dropout(0.25))\n\nmodel.add(Dense(256 , activation='relu'))\nmodel.add(BatchNormalization())\nmodel.add(Dropout(0.25))\n\nmodel.add(Dense(512, activation='relu'))\nmodel.add(BatchNormalization())\nmodel.add(Dropout(0.25))\n\nmodel.add(Dense(1))\n\nmodel.add(Activation(\"linear\"))\n\n\nmodel.summary()",
      "execution_count": null,
      "outputs": []
    },
    {
      "metadata": {
        "_uuid": "d68c59027d378c1ce978cd11d56ca06c73700b49",
        "trusted": true
      },
      "cell_type": "code",
      "source": "model.compile(optimizer='adam', loss='mean_absolute_error',metrics= ['mean_absolute_error'])\n\n",
      "execution_count": null,
      "outputs": []
    },
    {
      "metadata": {
        "_uuid": "adf344a4fb973ef83bd19ce67e527634b3f41710",
        "trusted": true,
        "scrolled": false
      },
      "cell_type": "code",
      "source": "from keras.callbacks import EarlyStopping\n#set early stopping monitor so the model stops training when it won't improve anymore\nearly_stopping_monitor = EarlyStopping(patience=15)\n#train model\nmodel.fit(X, y, validation_split=0.2, epochs=20,shuffle=True,batch_size=1024,callbacks=[early_stopping_monitor])\n",
      "execution_count": null,
      "outputs": []
    },
    {
      "metadata": {
        "_uuid": "0631dafbfc27a5adb84545e79319ae807869a37f",
        "trusted": true
      },
      "cell_type": "code",
      "source": "y_pred= model.predict(test2)",
      "execution_count": null,
      "outputs": []
    },
    {
      "metadata": {
        "_uuid": "4200953431e68cafdadfca35d3e6e2a2a3143a2e",
        "trusted": true
      },
      "cell_type": "code",
      "source": "y_pred=y_pred/100",
      "execution_count": null,
      "outputs": []
    },
    {
      "metadata": {
        "_uuid": "74eeecb7c0f255e36440a48587be072d102beeef",
        "trusted": true
      },
      "cell_type": "code",
      "source": "df=pd.DataFrame(y_pred,index=np.arange(len(y_pred)),columns=[\"bestSoldierPerc\"])\ndf.head()",
      "execution_count": null,
      "outputs": []
    },
    {
      "metadata": {
        "trusted": true,
        "_uuid": "e4f05aed718f61319e4bb436238fb41b7349a083"
      },
      "cell_type": "code",
      "source": "sample[\"bestSoldierPerc\"]=df",
      "execution_count": null,
      "outputs": []
    },
    {
      "metadata": {
        "_uuid": "a3487a9f13a96e5c856dea72d7f7a38492427935",
        "trusted": true
      },
      "cell_type": "code",
      "source": "sample.to_csv(\"sample_submission.csv\")",
      "execution_count": null,
      "outputs": []
    },
    {
      "metadata": {
        "_uuid": "d55cf9aa0555c0d3532df8f4e88bb780098f5141",
        "trusted": true
      },
      "cell_type": "code",
      "source": "sample.shape",
      "execution_count": null,
      "outputs": []
    },
    {
      "metadata": {
        "_uuid": "5408f08d225fd27f77aa2ff509de62dba1299aaa",
        "trusted": true
      },
      "cell_type": "code",
      "source": "sample",
      "execution_count": null,
      "outputs": []
    },
    {
      "metadata": {
        "trusted": true,
        "_uuid": "23cd354ab21ca38ee4591e54630e6ee53ba84eab"
      },
      "cell_type": "code",
      "source": "",
      "execution_count": null,
      "outputs": []
    },
    {
      "metadata": {
        "trusted": true,
        "_uuid": "ff64db200a19dd145e2efc6e8345e6c5a0579a1e"
      },
      "cell_type": "code",
      "source": "",
      "execution_count": null,
      "outputs": []
    },
    {
      "metadata": {
        "trusted": true,
        "_uuid": "a211b1c610a31f9190dba2cb628c40eec408846e"
      },
      "cell_type": "code",
      "source": "",
      "execution_count": null,
      "outputs": []
    },
    {
      "metadata": {
        "trusted": true,
        "_uuid": "b20a35418d624ff700549b335a7a6a3e495876de"
      },
      "cell_type": "code",
      "source": "",
      "execution_count": null,
      "outputs": []
    },
    {
      "metadata": {
        "trusted": true,
        "_uuid": "bc299e2d3bef17f713dacbc53cf8635a295f1d16"
      },
      "cell_type": "code",
      "source": "",
      "execution_count": null,
      "outputs": []
    },
    {
      "metadata": {
        "trusted": true,
        "_uuid": "0b9405cd0a07783f6d222599d4fb8a9c3c3e0ddd"
      },
      "cell_type": "code",
      "source": "",
      "execution_count": null,
      "outputs": []
    },
    {
      "metadata": {
        "trusted": true,
        "_uuid": "4c0dac685fbadb3bb8052b7f8760a6780f4da6a6"
      },
      "cell_type": "code",
      "source": "",
      "execution_count": null,
      "outputs": []
    },
    {
      "metadata": {
        "trusted": true,
        "_uuid": "c88f4f00ff8c86848acaac9007ce877620a07def"
      },
      "cell_type": "code",
      "source": "",
      "execution_count": null,
      "outputs": []
    },
    {
      "metadata": {
        "trusted": true,
        "_uuid": "9ec360b206b262ac94ed3c7eeb473fdf8f43aab3"
      },
      "cell_type": "code",
      "source": "",
      "execution_count": null,
      "outputs": []
    },
    {
      "metadata": {
        "trusted": true,
        "_uuid": "4e1f25580bda003c7f5eb735e6e704dc1175dd19"
      },
      "cell_type": "code",
      "source": "",
      "execution_count": null,
      "outputs": []
    },
    {
      "metadata": {
        "trusted": true,
        "_uuid": "8e8289a446362b5385495ffdece1025a34486996"
      },
      "cell_type": "code",
      "source": "",
      "execution_count": null,
      "outputs": []
    },
    {
      "metadata": {
        "trusted": true,
        "_uuid": "b66a356ee7e3765a36a13e746581f7116861ccdd"
      },
      "cell_type": "code",
      "source": "",
      "execution_count": null,
      "outputs": []
    },
    {
      "metadata": {
        "trusted": true,
        "_uuid": "ad4a67cbb3b891e54d10e7489fbc5d6fb3e833f6"
      },
      "cell_type": "code",
      "source": "",
      "execution_count": null,
      "outputs": []
    },
    {
      "metadata": {
        "trusted": true,
        "_uuid": "c962181d151ec61bd96b371b54099d617d00a09c"
      },
      "cell_type": "code",
      "source": "",
      "execution_count": null,
      "outputs": []
    },
    {
      "metadata": {
        "trusted": true,
        "_uuid": "2f9e9ef3840ed2bfde8c96b6aa3aa7d1a010c9bb"
      },
      "cell_type": "code",
      "source": "",
      "execution_count": null,
      "outputs": []
    },
    {
      "metadata": {
        "trusted": true,
        "_uuid": "9d461457ff43a628323c271f68c8b95fea7a2d4c"
      },
      "cell_type": "code",
      "source": "",
      "execution_count": null,
      "outputs": []
    },
    {
      "metadata": {
        "trusted": true,
        "_uuid": "c8d472d83f02023c2b30c12c40ece2de3490d49c"
      },
      "cell_type": "code",
      "source": "",
      "execution_count": null,
      "outputs": []
    },
    {
      "metadata": {
        "trusted": true,
        "_uuid": "30879f3c307cffa42e3e4164e553ba8b1cf9fba7"
      },
      "cell_type": "code",
      "source": "",
      "execution_count": null,
      "outputs": []
    },
    {
      "metadata": {
        "trusted": true,
        "_uuid": "2805825e5e5cf2b3269ab9adb2119d7a2b5e5280"
      },
      "cell_type": "code",
      "source": "",
      "execution_count": null,
      "outputs": []
    },
    {
      "metadata": {
        "trusted": true,
        "_uuid": "d1406a61f6a601406055be29b4279d8a6eba8375"
      },
      "cell_type": "code",
      "source": "",
      "execution_count": null,
      "outputs": []
    },
    {
      "metadata": {
        "trusted": true,
        "_uuid": "b526c434e4a589724d00cdcb0dae4bf7529a8edf"
      },
      "cell_type": "code",
      "source": "",
      "execution_count": null,
      "outputs": []
    },
    {
      "metadata": {
        "trusted": true,
        "_uuid": "b85bb5282e19f0486d02d5b05dd4a18c0dfee19d"
      },
      "cell_type": "code",
      "source": "",
      "execution_count": null,
      "outputs": []
    },
    {
      "metadata": {
        "trusted": true,
        "_uuid": "631ab60018afff6ce51f4a3dba5b1b19a428fba7"
      },
      "cell_type": "code",
      "source": "",
      "execution_count": null,
      "outputs": []
    },
    {
      "metadata": {
        "trusted": true,
        "_uuid": "b70f881084b161993497121b70161f340b947a9f"
      },
      "cell_type": "code",
      "source": "",
      "execution_count": null,
      "outputs": []
    },
    {
      "metadata": {
        "trusted": true,
        "_uuid": "e2704533ccbcddbbd906bb9db3da88ff0c81e949"
      },
      "cell_type": "code",
      "source": "",
      "execution_count": null,
      "outputs": []
    },
    {
      "metadata": {
        "trusted": true,
        "_uuid": "c7e4c6fcc62979bf6c6ba4c451bcfc587e8cd085"
      },
      "cell_type": "code",
      "source": "",
      "execution_count": null,
      "outputs": []
    },
    {
      "metadata": {
        "trusted": true,
        "_uuid": "171e04922ec2189e5b17e49ad77be90754534702"
      },
      "cell_type": "code",
      "source": "",
      "execution_count": null,
      "outputs": []
    },
    {
      "metadata": {
        "trusted": true,
        "_uuid": "ad4f1cff165efad53c1cf64403bd56de0dcb5083"
      },
      "cell_type": "code",
      "source": "",
      "execution_count": null,
      "outputs": []
    },
    {
      "metadata": {
        "trusted": true,
        "_uuid": "62ed7ee1ae473c557967411063c16c6587577883"
      },
      "cell_type": "code",
      "source": "",
      "execution_count": null,
      "outputs": []
    },
    {
      "metadata": {
        "trusted": true,
        "_uuid": "1caa7bcf98577426decf337b19389ae78bb2ba6a"
      },
      "cell_type": "code",
      "source": "",
      "execution_count": null,
      "outputs": []
    },
    {
      "metadata": {
        "trusted": true,
        "_uuid": "8fc608402fc236c0b541b8505a9c4a3d2eb38698"
      },
      "cell_type": "code",
      "source": "",
      "execution_count": null,
      "outputs": []
    },
    {
      "metadata": {
        "trusted": true,
        "_uuid": "bd05fe07bc63b1353834e7d294af4230bcff5e15"
      },
      "cell_type": "code",
      "source": "",
      "execution_count": null,
      "outputs": []
    },
    {
      "metadata": {
        "trusted": true,
        "_uuid": "3ef1eda97c2be1d061332f03e124b8d4c5e62deb"
      },
      "cell_type": "code",
      "source": "",
      "execution_count": null,
      "outputs": []
    },
    {
      "metadata": {
        "trusted": true,
        "_uuid": "cfee7d058edd50dbfe39a033f4d6fdea69f7bc21"
      },
      "cell_type": "code",
      "source": "",
      "execution_count": null,
      "outputs": []
    },
    {
      "metadata": {
        "trusted": true,
        "_uuid": "0d23b5842329dc8318ef4f5b21afba89fdfdd6bc"
      },
      "cell_type": "code",
      "source": "",
      "execution_count": null,
      "outputs": []
    },
    {
      "metadata": {
        "trusted": true,
        "_uuid": "da5588f9c7d3555aa93384101963ed5ba5828792"
      },
      "cell_type": "code",
      "source": "",
      "execution_count": null,
      "outputs": []
    },
    {
      "metadata": {
        "trusted": true,
        "_uuid": "04856d1767e0bdde72304a7313d7cae6bb9a17bf"
      },
      "cell_type": "code",
      "source": "",
      "execution_count": null,
      "outputs": []
    },
    {
      "metadata": {
        "trusted": true,
        "_uuid": "847d38a253e13011ee4b261331a86aacb77c9aad"
      },
      "cell_type": "code",
      "source": "",
      "execution_count": null,
      "outputs": []
    },
    {
      "metadata": {
        "trusted": true,
        "_uuid": "cda9bd1e3548c16680076744cd5edbbd6fcd0c72"
      },
      "cell_type": "code",
      "source": "",
      "execution_count": null,
      "outputs": []
    },
    {
      "metadata": {
        "trusted": true,
        "_uuid": "7605556c5157a8f8b97a7ca191bb9b0cfedb985b"
      },
      "cell_type": "code",
      "source": "",
      "execution_count": null,
      "outputs": []
    },
    {
      "metadata": {
        "trusted": true,
        "_uuid": "a6a717cffe63b9be236a250364da51492c8acd9b"
      },
      "cell_type": "code",
      "source": "",
      "execution_count": null,
      "outputs": []
    }
  ],
  "metadata": {
    "kernelspec": {
      "display_name": "Python 3",
      "language": "python",
      "name": "python3"
    },
    "language_info": {
      "name": "python",
      "version": "3.6.6",
      "mimetype": "text/x-python",
      "codemirror_mode": {
        "name": "ipython",
        "version": 3
      },
      "pygments_lexer": "ipython3",
      "nbconvert_exporter": "python",
      "file_extension": ".py"
    }
  },
  "nbformat": 4,
  "nbformat_minor": 1
}